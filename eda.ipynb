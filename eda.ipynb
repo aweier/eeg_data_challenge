{
 "cells": [
  {
   "cell_type": "markdown",
   "metadata": {},
   "source": [
    "## Seizure Detection Challenge (2025) \n",
    "\n",
    "This notebook implements a seizure detection pipeline using EEG data from the BIDS-formatted Siena Scalp EEG Dataset. We'll go through the following steps:\n",
    "\n",
    "#### 1. Data loading and preprocessing\n",
    "#### 2. Creating a PyTorch dataset\n",
    "#### 3. Building and training a CNN model\n",
    "#### 4. Evaluating the results\n"
   ]
  },
  {
   "cell_type": "code",
   "execution_count": 20,
   "metadata": {},
   "outputs": [],
   "source": [
    "#Imports\n",
    "import mne\n",
    "import mne_bids\n",
    "from bids import BIDSLayout\n",
    "import numpy as np\n",
    "import pandas as pd\n",
    "from pathlib import Path\n",
    "import torch\n",
    "from torch import nn\n",
    "from torch.utils.data import Dataset, DataLoader\n",
    "from sklearn.model_selection import train_test_split\n",
    "import matplotlib.pyplot as plt\n",
    "import logging\n",
    "from typing import Tuple, List, Optional\n",
    "\n",
    "# Set the maximum number of columns to display\n",
    "pd.set_option('display.max_columns', None) \n",
    "\n",
    "import warnings\n",
    "warnings.filterwarnings(\"ignore\")"
   ]
  },
  {
   "cell_type": "code",
   "execution_count": 21,
   "metadata": {},
   "outputs": [],
   "source": [
    "# Configure logging\n",
    "logging.basicConfig(\n",
    "    level=logging.INFO,\n",
    "    format='%(asctime)s - %(levelname)s - %(message)s',\n",
    "    datefmt='%Y-%m-%d %H:%M:%S'\n",
    ")\n",
    "logger = logging.getLogger(__name__)"
   ]
  },
  {
   "cell_type": "markdown",
   "metadata": {},
   "source": [
    "### Exploratory Data Analysis"
   ]
  },
  {
   "cell_type": "code",
   "execution_count": 22,
   "metadata": {},
   "outputs": [
    {
     "name": "stdout",
     "output_type": "stream",
     "text": [
      "Extracting EDF parameters from C:\\Users\\user\\Documents\\eeg_data_challenge\\BIDS_Siena\\BIDS_Siena\\sub-00\\ses-01\\eeg\\sub-00_ses-01_task-szMonitoring_run-00_eeg.edf...\n",
      "EDF file detected\n",
      "Setting channel info structure...\n",
      "Creating raw.info structure...\n",
      "Reading 0 ... 671999  =      0.000 ...  2624.996 secs...\n",
      "<Info | 8 non-empty values\n",
      " bads: []\n",
      " ch_names: Fp1-Avg, F3-Avg, C3-Avg, P3-Avg, O1-Avg, F7-Avg, T3-Avg, T5-Avg, ...\n",
      " chs: 19 EEG\n",
      " custom_ref_applied: False\n",
      " highpass: 1.6 Hz\n",
      " lowpass: 30.0 Hz\n",
      " meas_date: 2016-01-01 19:39:33 UTC\n",
      " nchan: 19\n",
      " projs: []\n",
      " sfreq: 256.0 Hz\n",
      " subject_info: 3 items (dict)\n",
      ">\n"
     ]
    }
   ],
   "source": [
    "#BIDS_Siena Sub 00 ses-01 run 00\n",
    "sub00ses01run00 = r\"C:\\Users\\user\\Documents\\eeg_data_challenge\\BIDS_Siena\\BIDS_Siena\\sub-00\\ses-01\\eeg\\sub-00_ses-01_task-szMonitoring_run-00_eeg.edf\"\n",
    "sub00ses01run00 = mne.io.read_raw_edf(sub00ses01run00, preload=True)\n",
    "print(sub00ses01run00.info)"
   ]
  },
  {
   "cell_type": "code",
   "execution_count": 23,
   "metadata": {},
   "outputs": [
    {
     "name": "stdout",
     "output_type": "stream",
     "text": [
      "['Fp1-Avg', 'F3-Avg', 'C3-Avg', 'P3-Avg', 'O1-Avg', 'F7-Avg', 'T3-Avg', 'T5-Avg', 'Fz-Avg', 'Cz-Avg', 'Pz-Avg', 'Fp2-Avg', 'F4-Avg', 'C4-Avg', 'P4-Avg', 'O2-Avg', 'F8-Avg', 'T4-Avg', 'T6-Avg']\n"
     ]
    }
   ],
   "source": [
    "#View Channel Names\n",
    "print(sub00ses01run00.ch_names)"
   ]
  },
  {
   "cell_type": "code",
   "execution_count": 24,
   "metadata": {},
   "outputs": [
    {
     "data": {
      "text/plain": [
       "<mne_qt_browser._pg_figure.MNEQtBrowser at 0x2bc3670f5e0>"
      ]
     },
     "execution_count": 24,
     "metadata": {},
     "output_type": "execute_result"
    }
   ],
   "source": [
    "sub00ses01run00.plot(duration=10, n_channels=19)"
   ]
  },
  {
   "cell_type": "code",
   "execution_count": 25,
   "metadata": {},
   "outputs": [
    {
     "name": "stdout",
     "output_type": "stream",
     "text": [
      "    Channel          Mean   Std Dev       Min       Max\n",
      "0   Fp1-Avg -4.934503e-07  0.000049 -0.000430  0.001162\n",
      "1    F3-Avg  1.461965e-08  0.000020 -0.000239  0.000494\n",
      "2    C3-Avg -2.182140e-06  0.000016 -0.000343  0.000216\n",
      "3    P3-Avg -1.308922e-06  0.000026 -0.000308  0.000950\n",
      "4    O1-Avg -1.614275e-06  0.000095 -0.001081  0.002979\n",
      "5    F7-Avg  1.795892e-06  0.000035 -0.000349  0.000406\n",
      "6    T3-Avg -4.000901e-07  0.000022 -0.000466  0.000198\n",
      "7    T5-Avg  3.125583e-06  0.000018 -0.000402  0.000203\n",
      "8    Fz-Avg  4.814427e-07  0.000019 -0.000217  0.000315\n",
      "9    Cz-Avg -4.819394e-06  0.000041 -0.000250  0.001165\n",
      "10   Pz-Avg -1.682614e-06  0.000036 -0.000280  0.001136\n",
      "11  Fp2-Avg  2.336533e-06  0.000055 -0.000461  0.001377\n",
      "12   F4-Avg -4.353400e-07  0.000021 -0.000211  0.000637\n",
      "13   C4-Avg -2.405176e-06  0.000017 -0.000202  0.000224\n",
      "14   P4-Avg  9.287732e-07  0.000017 -0.000206  0.000174\n",
      "15   O2-Avg  6.411352e-07  0.000026 -0.000304  0.000235\n",
      "16   F8-Avg  2.965402e-06  0.000044 -0.000449  0.000759\n",
      "17   T4-Avg  2.324777e-06  0.000029 -0.000307  0.000719\n",
      "18   T6-Avg  8.439523e-07  0.000029 -0.000456  0.000674\n"
     ]
    }
   ],
   "source": [
    "# Extract EEG data as a NumPy array\n",
    "eeg_data = sub00ses01run00.get_data()\n",
    "channel_names = sub00ses01run00.ch_names\n",
    "\n",
    "# Compute basic statistics\n",
    "eeg_stats = pd.DataFrame({\n",
    "    \"Channel\": channel_names,\n",
    "    \"Mean\": np.mean(eeg_data, axis=1),\n",
    "    \"Std Dev\": np.std(eeg_data, axis=1),\n",
    "    \"Min\": np.min(eeg_data, axis=1),\n",
    "    \"Max\": np.max(eeg_data, axis=1)\n",
    "})\n",
    "\n",
    "# Display the computed statistics\n",
    "print(eeg_stats)\n"
   ]
  },
  {
   "cell_type": "markdown",
   "metadata": {},
   "source": [
    "Computes the mean, standard deviation, min and max values for each EEG channel.\n",
    "\n",
    "Helps in detecting anomalies, identifying bad channels and understanding the data distribution."
   ]
  },
  {
   "cell_type": "code",
   "execution_count": 26,
   "metadata": {},
   "outputs": [
    {
     "name": "stdout",
     "output_type": "stream",
     "text": [
      "    onset  duration  eventType  confidence channels             dateTime  \\\n",
      "0  1143.0      70.0  sz_foc_ia         NaN    T4,T6  2016-01-01 19:39:33   \n",
      "\n",
      "   recordingDuration  \n",
      "0             2625.0  \n"
     ]
    }
   ],
   "source": [
    "#Loading Seizure Annotations\n",
    "sub00ses01run00_annotations = r\"C:\\Users\\user\\Documents\\eeg_data_challenge\\BIDS_Siena\\BIDS_Siena\\sub-00\\ses-01\\eeg\\sub-00_ses-01_task-szMonitoring_run-00_events.tsv\"\n",
    "sub00ses01run00_annotations = pd.read_csv(sub00ses01run00_annotations, sep='\\t')\n",
    "print(sub00ses01run00_annotations.head())"
   ]
  },
  {
   "cell_type": "code",
   "execution_count": 27,
   "metadata": {},
   "outputs": [
    {
     "name": "stdout",
     "output_type": "stream",
     "text": [
      "    onset  duration  eventType  confidence channels             dateTime  \\\n",
      "0  1143.0      70.0  sz_foc_ia         NaN    T4,T6  2016-01-01 19:39:33   \n",
      "\n",
      "   recordingDuration  \n",
      "0             2625.0  \n"
     ]
    }
   ],
   "source": [
    "# Create MNE Annotations object\n",
    "mne_annotations = mne.Annotations(\n",
    "    onset=sub00ses01run00_annotations[\"onset\"].values,\n",
    "    duration=sub00ses01run00_annotations[\"duration\"].values,\n",
    "    description=sub00ses01run00_annotations[\"eventType\"].values\n",
    ")\n",
    "\n",
    "# Set annotations to the raw EEG object\n",
    "sub00ses01run00.set_annotations(mne_annotations)\n",
    "\n",
    "# Plot EEG data with annotations\n",
    "sub00ses01run00.plot()\n",
    "\n",
    "# Print first few rows of the annotations DataFrame\n",
    "print(sub00ses01run00_annotations.head())"
   ]
  },
  {
   "cell_type": "markdown",
   "metadata": {},
   "source": [
    "Electrode Labels on the left\n",
    "    - These are the the EEG channel names corresponding to the standard 10-20 system electrode placements\n",
    "EEG Signal Traces\n",
    "    -Each Channel shows its recorded electrical activity over time in microvolts (µV). These signals represent the brain activity, and you may observe rhythmic patterns, spikes, or artifacts.\n",
    "Time Axis (x-axis)\n",
    "\n",
    "Highlighted Blue\n",
    "    -Added Annotation (probably start and duration of seizure event)"
   ]
  },
  {
   "cell_type": "markdown",
   "metadata": {},
   "source": [
    "#### Data Handling Classes and Functions\n",
    "- Define our custom Dataset class for handling EEG data and our path verification function."
   ]
  },
  {
   "cell_type": "code",
   "execution_count": 28,
   "metadata": {},
   "outputs": [],
   "source": [
    "class SeizureDataset(Dataset):\n",
    "    \"\"\"\n",
    "    Custom Dataset for handling EEG seizure data.\n",
    "    Converts numpy arrays to PyTorch tensors and provides standard dataset functionality.\n",
    "    \"\"\"\n",
    "    def __init__(self, X: np.ndarray, y: np.ndarray):\n",
    "        self.X = torch.FloatTensor(X)\n",
    "        self.y = torch.FloatTensor(y)\n",
    "        \n",
    "    def __len__(self) -> int:\n",
    "        return len(self.X)\n",
    "    \n",
    "    def __getitem__(self, idx: int) -> Tuple[torch.Tensor, torch.Tensor]:\n",
    "        return self.X[idx], self.y[idx]\n",
    "\n",
    "def verify_paths(bids_root: Path) -> Path:\n",
    "    \"\"\"\n",
    "    Verify and construct the correct path to the BIDS dataset.\n",
    "    Handles the nested BIDS_Siena directory structure.\n",
    "    \"\"\"\n",
    "    bids_root = Path(bids_root)\n",
    "    actual_bids_root = bids_root / \"BIDS_Siena\"\n",
    "    \n",
    "    if not actual_bids_root.exists():\n",
    "        raise FileNotFoundError(\n",
    "            f\"BIDS directory not found at: {actual_bids_root}\\n\"\n",
    "            f\"Please check if the path is correct.\"\n",
    "        )\n",
    "    \n",
    "    logger.info(f\"Verified BIDS directory at: {actual_bids_root}\")\n",
    "    return actual_bids_root"
   ]
  },
  {
   "cell_type": "markdown",
   "metadata": {},
   "source": [
    "#### Data Loading and Processing Functions\n",
    "- Implement functions to load and process our EEG recordings. We'll add comprehensive metrics calculation."
   ]
  },
  {
   "cell_type": "code",
   "execution_count": 29,
   "metadata": {},
   "outputs": [],
   "source": [
    "def load_single_recording(\n",
    "    eeg_file: Path,\n",
    "    events_file: Path,\n",
    "    window_size: int = 256,\n",
    "    overlap: float = 0.5\n",
    ") -> Tuple[np.ndarray, np.ndarray]:\n",
    "    \"\"\"\n",
    "    Load and process a single EEG recording with its corresponding events.\n",
    "    The data is windowed and labeled according to seizure events.\n",
    "    \"\"\"\n",
    "    try:\n",
    "        # Load EEG data\n",
    "        logger.info(f\"Loading EEG file: {eeg_file.name}\")\n",
    "        raw = mne.io.read_raw_edf(eeg_file, preload=True)\n",
    "        \n",
    "        # Load events\n",
    "        logger.info(f\"Loading events from: {events_file.name}\")\n",
    "        events_df = pd.read_csv(events_file, sep='\\t')\n",
    "        \n",
    "        # Get EEG data and parameters\n",
    "        data = raw.get_data()\n",
    "        sfreq = raw.info['sfreq']\n",
    "        \n",
    "        # Calculate windowing parameters\n",
    "        stride = int(window_size * (1 - overlap))\n",
    "        n_windows = (data.shape[1] - window_size) // stride + 1\n",
    "        \n",
    "        # Initialize arrays\n",
    "        windows = np.zeros((n_windows, data.shape[0], window_size))\n",
    "        labels = np.zeros(n_windows)\n",
    "        \n",
    "        # Process each window\n",
    "        for i in range(n_windows):\n",
    "            start_idx = i * stride\n",
    "            end_idx = start_idx + window_size\n",
    "            windows[i] = data[:, start_idx:end_idx]\n",
    "            \n",
    "            # Convert to time\n",
    "            window_start_time = start_idx / sfreq\n",
    "            window_end_time = end_idx / sfreq\n",
    "            \n",
    "            # Check for seizure events\n",
    "            for _, event in events_df.iterrows():\n",
    "                if event['eventType'].startswith('sz'):\n",
    "                    event_start = event['onset']\n",
    "                    event_end = event_start + event['duration']\n",
    "                    \n",
    "                    if (window_start_time <= event_end and \n",
    "                        window_end_time >= event_start):\n",
    "                        labels[i] = 1\n",
    "                        break\n",
    "        \n",
    "        logger.info(f\"Processed {n_windows} windows from {eeg_file.name}\")\n",
    "        return windows, labels\n",
    "    \n",
    "    except Exception as e:\n",
    "        logger.error(f\"Error processing {eeg_file}: {str(e)}\")\n",
    "        raise"
   ]
  },
  {
   "cell_type": "markdown",
   "metadata": {},
   "source": [
    "#### Dataset Preparation\n",
    "- Function to prepare our dataset from a single subject's recordings."
   ]
  },
  {
   "cell_type": "code",
   "execution_count": 30,
   "metadata": {},
   "outputs": [],
   "source": [
    "def prepare_test_dataset(bids_root: Path, subject_id: str = \"00\") -> Tuple[np.ndarray, np.ndarray]:\n",
    "    \"\"\"\n",
    "    Prepare the initial test dataset using data from a single subject.\n",
    "    \"\"\"\n",
    "    try:\n",
    "        subject_dir = bids_root / f\"sub-{subject_id}\" / \"ses-01\" / \"eeg\"\n",
    "        logger.info(f\"Processing subject directory: {subject_dir}\")\n",
    "        \n",
    "        if not subject_dir.exists():\n",
    "            raise FileNotFoundError(f\"Subject directory not found: {subject_dir}\")\n",
    "        \n",
    "        all_data = []\n",
    "        all_labels = []\n",
    "        \n",
    "        # Find all EEG files\n",
    "        eeg_files = list(subject_dir.glob(\"*_eeg.edf\"))\n",
    "        logger.info(f\"Found {len(eeg_files)} EEG files\")\n",
    "        \n",
    "        for eeg_file in eeg_files:\n",
    "            events_file = eeg_file.parent / eeg_file.name.replace(\"_eeg.edf\", \"_events.tsv\")\n",
    "            \n",
    "            if not events_file.exists():\n",
    "                logger.warning(f\"Events file not found: {events_file}\")\n",
    "                continue\n",
    "                \n",
    "            try:\n",
    "                data, labels = load_single_recording(eeg_file, events_file)\n",
    "                logger.info(f\"Successfully loaded data with shape {data.shape}\")\n",
    "                all_data.append(data)\n",
    "                all_labels.append(labels)\n",
    "            except Exception as e:\n",
    "                logger.error(f\"Error processing file {eeg_file}: {str(e)}\")\n",
    "                continue\n",
    "        \n",
    "        if not all_data:\n",
    "            raise ValueError(\"No data was successfully loaded\")\n",
    "            \n",
    "        X = np.concatenate(all_data)\n",
    "        y = np.concatenate(all_labels)\n",
    "        \n",
    "        logger.info(f\"Final dataset shape: {X.shape}\")\n",
    "        return X, y\n",
    "    \n",
    "    except Exception as e:\n",
    "        logger.error(f\"Error preparing dataset: {str(e)}\")\n",
    "        raise"
   ]
  },
  {
   "cell_type": "markdown",
   "metadata": {},
   "source": [
    "#### Model Architecture\n",
    "- Define CNN model for seizure detection."
   ]
  },
  {
   "cell_type": "code",
   "execution_count": 31,
   "metadata": {},
   "outputs": [],
   "source": [
    "class SeizureDetectionModel(nn.Module):\n",
    "    \"\"\"\n",
    "    CNN model for seizure detection in EEG data.\n",
    "    Uses 3 convolutional layers with batch normalization and max pooling,\n",
    "    followed by fully connected layers for classification.\n",
    "    \"\"\"\n",
    "    def __init__(self, n_channels: int, n_classes: int = 1):\n",
    "        super().__init__()\n",
    "        \n",
    "        self.feature_extractor = nn.Sequential(\n",
    "            # First conv block\n",
    "            nn.Conv1d(n_channels, 32, kernel_size=3, padding=1),\n",
    "            nn.ReLU(),\n",
    "            nn.BatchNorm1d(32),\n",
    "            nn.MaxPool1d(2),\n",
    "            \n",
    "            # Second conv block\n",
    "            nn.Conv1d(32, 64, kernel_size=3, padding=1),\n",
    "            nn.ReLU(),\n",
    "            nn.BatchNorm1d(64),\n",
    "            nn.MaxPool1d(2),\n",
    "            \n",
    "            # Third conv block\n",
    "            nn.Conv1d(64, 128, kernel_size=3, padding=1),\n",
    "            nn.ReLU(),\n",
    "            nn.BatchNorm1d(128),\n",
    "            nn.MaxPool1d(2),\n",
    "        )\n",
    "        \n",
    "        self.flatten_size = self._get_flatten_size(n_channels)\n",
    "        \n",
    "        self.classifier = nn.Sequential(\n",
    "            nn.Linear(self.flatten_size, 256),\n",
    "            nn.ReLU(),\n",
    "            nn.Dropout(0.5),\n",
    "            nn.Linear(256, n_classes)\n",
    "        )\n",
    "    \n",
    "    def _get_flatten_size(self, n_channels: int) -> int:\n",
    "        x = torch.randn(1, n_channels, 256)\n",
    "        x = self.feature_extractor(x)\n",
    "        return x.view(1, -1).size(1)\n",
    "    \n",
    "    def forward(self, x: torch.Tensor) -> torch.Tensor:\n",
    "        x = self.feature_extractor(x)\n",
    "        x = x.view(x.size(0), -1)\n",
    "        x = self.classifier(x)\n",
    "        return x"
   ]
  },
  {
   "cell_type": "markdown",
   "metadata": {},
   "source": [
    "#### Training and Evaluation Functions\n",
    "- Implement training functions and metrics evaluation"
   ]
  },
  {
   "cell_type": "code",
   "execution_count": 32,
   "metadata": {},
   "outputs": [],
   "source": [
    "def calculate_metrics(predictions: torch.Tensor, targets: torch.Tensor) -> Tuple[float, float, float]:\n",
    "    \"\"\"\n",
    "    Calculate precision, recall, and F1 score for binary classification.\n",
    "    \"\"\"\n",
    "    predictions = predictions.cpu().numpy()\n",
    "    targets = targets.cpu().numpy()\n",
    "    \n",
    "    true_positives = ((predictions == 1) & (targets == 1)).sum()\n",
    "    predicted_positives = (predictions == 1).sum()\n",
    "    actual_positives = (targets == 1).sum()\n",
    "    \n",
    "    precision = true_positives / predicted_positives if predicted_positives > 0 else 0\n",
    "    recall = true_positives / actual_positives if actual_positives > 0 else 0\n",
    "    f1 = 2 * (precision * recall) / (precision + recall) if (precision + recall) > 0 else 0\n",
    "    \n",
    "    return precision, recall, f1\n",
    "\n",
    "def validate(\n",
    "    model: nn.Module,\n",
    "    val_loader: DataLoader,\n",
    "    criterion: nn.Module,\n",
    "    device: torch.device\n",
    ") -> Tuple[float, float, float, float]:\n",
    "    \"\"\"\n",
    "    Validate the model and calculate comprehensive metrics.\n",
    "    \n",
    "    Args:\n",
    "        model: The neural network model\n",
    "        val_loader: DataLoader for validation data\n",
    "        criterion: Loss function\n",
    "        device: Computing device (CPU/GPU)\n",
    "    \n",
    "    Returns:\n",
    "        Tuple containing:\n",
    "        - validation loss (float)\n",
    "        - precision (float)\n",
    "        - recall (float)\n",
    "        - F1 score (float)\n",
    "    \"\"\"\n",
    "    model.eval()  # Set model to evaluation mode\n",
    "    total_loss = 0\n",
    "    all_preds = []\n",
    "    all_targets = []\n",
    "    \n",
    "    # No gradient computation needed for validation\n",
    "    with torch.no_grad():\n",
    "        for batch_X, batch_y in val_loader:\n",
    "            # Move data to appropriate device\n",
    "            batch_X = batch_X.to(device)\n",
    "            batch_y = batch_y.to(device)\n",
    "            \n",
    "            # Forward pass\n",
    "            outputs = model(batch_X)\n",
    "            loss = criterion(outputs.squeeze(), batch_y)\n",
    "            \n",
    "            # Accumulate loss\n",
    "            total_loss += loss.item()\n",
    "            \n",
    "            # Get predictions\n",
    "            predictions = (torch.sigmoid(outputs.squeeze()) > 0.5).float()\n",
    "            \n",
    "            # Store predictions and targets for metric calculation\n",
    "            all_preds.extend(predictions.cpu().numpy())\n",
    "            all_targets.extend(batch_y.cpu().numpy())\n",
    "    \n",
    "    # Calculate metrics\n",
    "    all_preds = np.array(all_preds)\n",
    "    all_targets = np.array(all_targets)\n",
    "    \n",
    "    # Calculate precision\n",
    "    precision = np.sum((all_preds == 1) & (all_targets == 1)) / (np.sum(all_preds == 1) + 1e-10)\n",
    "    \n",
    "    # Calculate recall\n",
    "    recall = np.sum((all_preds == 1) & (all_targets == 1)) / (np.sum(all_targets == 1) + 1e-10)\n",
    "    \n",
    "    # Calculate F1 score\n",
    "    f1 = 2 * (precision * recall) / (precision + recall + 1e-10)\n",
    "    \n",
    "    # Return average loss and metrics\n",
    "    return total_loss / len(val_loader), precision, recall, f1\n",
    "\n",
    "def train_epoch(\n",
    "    model: nn.Module,\n",
    "    train_loader: DataLoader,\n",
    "    criterion: nn.Module,\n",
    "    optimizer: torch.optim.Optimizer,\n",
    "    device: torch.device\n",
    ") -> Tuple[float, float, float, float]:\n",
    "    \"\"\"\n",
    "    Train the model for one epoch and return metrics.\n",
    "    \"\"\"\n",
    "    model.train()\n",
    "    total_loss = 0\n",
    "    all_preds = []\n",
    "    all_targets = []\n",
    "    \n",
    "    for batch_X, batch_y in train_loader:\n",
    "        batch_X, batch_y = batch_X.to(device), batch_y.to(device)\n",
    "        \n",
    "        optimizer.zero_grad()\n",
    "        outputs = model(batch_X)\n",
    "        loss = criterion(outputs.squeeze(), batch_y)\n",
    "        loss.backward()\n",
    "        optimizer.step()\n",
    "        \n",
    "        total_loss += loss.item()\n",
    "        \n",
    "        # Store predictions and targets for metrics\n",
    "        predictions = (torch.sigmoid(outputs.squeeze()) > 0.5).float()\n",
    "        all_preds.extend(predictions.tolist())\n",
    "        all_targets.extend(batch_y.tolist())\n",
    "    \n",
    "    # Calculate metrics\n",
    "    precision, recall, f1 = calculate_metrics(\n",
    "        torch.tensor(all_preds),\n",
    "        torch.tensor(all_targets)\n",
    "    )\n",
    "    \n",
    "    return total_loss / len(train_loader), precision, recall, f1\n"
   ]
  },
  {
   "cell_type": "markdown",
   "metadata": {},
   "source": [
    "#### Main Training loop"
   ]
  },
  {
   "cell_type": "code",
   "execution_count": null,
   "metadata": {},
   "outputs": [
    {
     "name": "stderr",
     "output_type": "stream",
     "text": [
      "2025-02-22 17:22:58 - INFO - Verified BIDS directory at: C:\\Users\\user\\Documents\\eeg_data_challenge\\BIDS_Siena\\BIDS_Siena\n",
      "2025-02-22 17:22:58 - INFO - Loading test dataset...\n",
      "2025-02-22 17:22:58 - INFO - Processing subject directory: C:\\Users\\user\\Documents\\eeg_data_challenge\\BIDS_Siena\\BIDS_Siena\\sub-00\\ses-01\\eeg\n",
      "2025-02-22 17:22:58 - INFO - Found 5 EEG files\n",
      "2025-02-22 17:22:58 - INFO - Loading EEG file: sub-00_ses-01_task-szMonitoring_run-00_eeg.edf\n"
     ]
    },
    {
     "name": "stdout",
     "output_type": "stream",
     "text": [
      "Extracting EDF parameters from C:\\Users\\user\\Documents\\eeg_data_challenge\\BIDS_Siena\\BIDS_Siena\\sub-00\\ses-01\\eeg\\sub-00_ses-01_task-szMonitoring_run-00_eeg.edf...\n",
      "EDF file detected\n",
      "Setting channel info structure...\n",
      "Creating raw.info structure...\n",
      "Reading 0 ... 671999  =      0.000 ...  2624.996 secs...\n"
     ]
    },
    {
     "name": "stderr",
     "output_type": "stream",
     "text": [
      "2025-02-22 17:22:59 - INFO - Loading events from: sub-00_ses-01_task-szMonitoring_run-00_events.tsv\n",
      "2025-02-22 17:23:03 - INFO - Processed 5249 windows from sub-00_ses-01_task-szMonitoring_run-00_eeg.edf\n",
      "2025-02-22 17:23:03 - INFO - Successfully loaded data with shape (5249, 19, 256)\n",
      "2025-02-22 17:23:03 - INFO - Loading EEG file: sub-00_ses-01_task-szMonitoring_run-01_eeg.edf\n"
     ]
    },
    {
     "name": "stdout",
     "output_type": "stream",
     "text": [
      "Extracting EDF parameters from C:\\Users\\user\\Documents\\eeg_data_challenge\\BIDS_Siena\\BIDS_Siena\\sub-00\\ses-01\\eeg\\sub-00_ses-01_task-szMonitoring_run-01_eeg.edf...\n",
      "EDF file detected\n",
      "Setting channel info structure...\n",
      "Creating raw.info structure...\n",
      "Reading 0 ... 589311  =      0.000 ...  2301.996 secs...\n"
     ]
    },
    {
     "name": "stderr",
     "output_type": "stream",
     "text": [
      "2025-02-22 17:23:04 - INFO - Loading events from: sub-00_ses-01_task-szMonitoring_run-01_events.tsv\n",
      "2025-02-22 17:23:07 - INFO - Processed 4603 windows from sub-00_ses-01_task-szMonitoring_run-01_eeg.edf\n",
      "2025-02-22 17:23:07 - INFO - Successfully loaded data with shape (4603, 19, 256)\n",
      "2025-02-22 17:23:07 - INFO - Loading EEG file: sub-00_ses-01_task-szMonitoring_run-02_eeg.edf\n"
     ]
    },
    {
     "name": "stdout",
     "output_type": "stream",
     "text": [
      "Extracting EDF parameters from C:\\Users\\user\\Documents\\eeg_data_challenge\\BIDS_Siena\\BIDS_Siena\\sub-00\\ses-01\\eeg\\sub-00_ses-01_task-szMonitoring_run-02_eeg.edf...\n",
      "EDF file detected\n",
      "Setting channel info structure...\n",
      "Creating raw.info structure...\n",
      "Reading 0 ... 642303  =      0.000 ...  2508.996 secs...\n"
     ]
    },
    {
     "name": "stderr",
     "output_type": "stream",
     "text": [
      "2025-02-22 17:23:07 - INFO - Loading events from: sub-00_ses-01_task-szMonitoring_run-02_events.tsv\n",
      "2025-02-22 17:23:11 - INFO - Processed 5017 windows from sub-00_ses-01_task-szMonitoring_run-02_eeg.edf\n",
      "2025-02-22 17:23:11 - INFO - Successfully loaded data with shape (5017, 19, 256)\n",
      "2025-02-22 17:23:11 - INFO - Loading EEG file: sub-00_ses-01_task-szMonitoring_run-03_eeg.edf\n"
     ]
    },
    {
     "name": "stdout",
     "output_type": "stream",
     "text": [
      "Extracting EDF parameters from C:\\Users\\user\\Documents\\eeg_data_challenge\\BIDS_Siena\\BIDS_Siena\\sub-00\\ses-01\\eeg\\sub-00_ses-01_task-szMonitoring_run-03_eeg.edf...\n",
      "EDF file detected\n",
      "Setting channel info structure...\n",
      "Creating raw.info structure...\n",
      "Reading 0 ... 538111  =      0.000 ...  2101.996 secs...\n"
     ]
    },
    {
     "name": "stderr",
     "output_type": "stream",
     "text": [
      "2025-02-22 17:23:11 - INFO - Loading events from: sub-00_ses-01_task-szMonitoring_run-03_events.tsv\n",
      "2025-02-22 17:23:13 - INFO - Processed 4203 windows from sub-00_ses-01_task-szMonitoring_run-03_eeg.edf\n",
      "2025-02-22 17:23:13 - INFO - Successfully loaded data with shape (4203, 19, 256)\n",
      "2025-02-22 17:23:13 - INFO - Loading EEG file: sub-00_ses-01_task-szMonitoring_run-04_eeg.edf\n"
     ]
    },
    {
     "name": "stdout",
     "output_type": "stream",
     "text": [
      "Extracting EDF parameters from C:\\Users\\user\\Documents\\eeg_data_challenge\\BIDS_Siena\\BIDS_Siena\\sub-00\\ses-01\\eeg\\sub-00_ses-01_task-szMonitoring_run-04_eeg.edf...\n",
      "EDF file detected\n",
      "Setting channel info structure...\n",
      "Creating raw.info structure...\n",
      "Reading 0 ... 548607  =      0.000 ...  2142.996 secs...\n"
     ]
    },
    {
     "name": "stderr",
     "output_type": "stream",
     "text": [
      "2025-02-22 17:23:14 - INFO - Loading events from: sub-00_ses-01_task-szMonitoring_run-04_events.tsv\n",
      "2025-02-22 17:23:17 - INFO - Processed 4285 windows from sub-00_ses-01_task-szMonitoring_run-04_eeg.edf\n",
      "2025-02-22 17:23:17 - INFO - Successfully loaded data with shape (4285, 19, 256)\n",
      "2025-02-22 17:23:19 - INFO - Final dataset shape: (23357, 19, 256)\n",
      "2025-02-22 17:23:19 - INFO - Class weight for positive class: 34.12\n",
      "2025-02-22 17:23:19 - INFO - Dataset loaded: 23357 windows\n",
      "2025-02-22 17:23:19 - INFO - Seizure windows: 665 (2.85%)\n",
      "2025-02-22 17:23:20 - INFO - Training set size: 18685, Validation set size: 4672\n",
      "2025-02-22 17:23:20 - INFO - Using device: cpu\n",
      "2025-02-22 17:23:20 - INFO - Starting training...\n",
      "2025-02-22 17:24:05 - INFO - Epoch 1/10\n",
      "2025-02-22 17:24:05 - INFO - Train Loss: 1.4264, F1: 0.1731\n",
      "2025-02-22 17:24:05 - INFO - Val Loss: 116.0956, F1: 0.0554\n",
      "2025-02-22 17:24:05 - INFO - Saved new best model\n",
      "2025-02-22 17:24:50 - INFO - Epoch 2/10\n",
      "2025-02-22 17:24:50 - INFO - Train Loss: 0.8690, F1: 0.2877\n",
      "2025-02-22 17:24:50 - INFO - Val Loss: 71.7023, F1: 0.0000\n",
      "2025-02-22 17:25:35 - INFO - Epoch 3/10\n",
      "2025-02-22 17:25:35 - INFO - Train Loss: 0.5632, F1: 0.3448\n",
      "2025-02-22 17:25:35 - INFO - Val Loss: 17.7769, F1: 0.0000\n",
      "2025-02-22 17:26:21 - INFO - Epoch 4/10\n",
      "2025-02-22 17:26:21 - INFO - Train Loss: 0.5271, F1: 0.3809\n",
      "2025-02-22 17:26:21 - INFO - Val Loss: 1987.8986, F1: 0.0554\n",
      "2025-02-22 17:27:06 - INFO - Epoch 5/10\n",
      "2025-02-22 17:27:06 - INFO - Train Loss: 0.4556, F1: 0.3844\n",
      "2025-02-22 17:27:06 - INFO - Val Loss: 13.3038, F1: 0.0000\n",
      "2025-02-22 17:27:52 - INFO - Epoch 6/10\n",
      "2025-02-22 17:27:52 - INFO - Train Loss: 0.3530, F1: 0.4603\n",
      "2025-02-22 17:27:52 - INFO - Val Loss: 97.8251, F1: 0.0554\n",
      "2025-02-22 17:27:52 - INFO - Early stopping triggered after 6 epochs\n",
      "2025-02-22 17:27:52 - INFO - Training complete\n"
     ]
    },
    {
     "data": {
      "image/png": "[encoded data removed]",
      "text/plain": [
       "<Figure size 1200x600 with 2 Axes>"
      ]
     },
     "metadata": {},
     "output_type": "display_data"
    },
    {
     "name": "stdout",
     "output_type": "stream",
     "text": [
      "Channels marked as bad:\n",
      "none\n",
      "Attempting to create new mne-python configuration file:\n",
      "C:\\Users\\user\\.mne\\mne-python.json\n",
      "Channels marked as bad:\n",
      "none\n",
      "Channels marked as bad:\n",
      "none\n",
      "Channels marked as bad:\n",
      "none\n"
     ]
    }
   ],
   "source": [
    "def main():\n",
    "    \"\"\"Main function to run the seizure detection pipeline\"\"\"\n",
    "    try:\n",
    "        # Set up paths\n",
    "        initial_path = Path(r\"C:\\Users\\user\\Documents\\eeg_data_challenge\\BIDS_Siena\")\n",
    "        bids_root = verify_paths(initial_path)\n",
    "        \n",
    "        # Load dataset\n",
    "        logger.info(\"Loading test dataset...\")\n",
    "        X, y = prepare_test_dataset(bids_root)\n",
    "        \n",
    "        # Calculate class weights for imbalanced dataset\n",
    "        pos_weight = torch.tensor([(y == 0).sum() / (y == 1).sum()])\n",
    "        logger.info(f\"Class weight for positive class: {pos_weight.item():.2f}\")\n",
    "        \n",
    "        # Print dataset statistics\n",
    "        logger.info(f\"Dataset loaded: {X.shape[0]} windows\")\n",
    "        logger.info(f\"Seizure windows: {np.sum(y == 1)} ({np.mean(y == 1)*100:.2f}%)\")\n",
    "        \n",
    "        # Split data\n",
    "        X_train, X_val, y_train, y_val = train_test_split(\n",
    "            X, y, test_size=0.2, random_state=42, stratify=y\n",
    "        )\n",
    "        logger.info(f\"Training set size: {len(X_train)}, Validation set size: {len(X_val)}\")\n",
    "        \n",
    "        # Create data loaders\n",
    "        train_dataset = SeizureDataset(X_train, y_train)\n",
    "        val_dataset = SeizureDataset(X_val, y_val)\n",
    "        \n",
    "        train_loader = DataLoader(train_dataset, batch_size=32, shuffle=True)\n",
    "        val_loader = DataLoader(val_dataset, batch_size=32)\n",
    "        \n",
    "        # Set up device\n",
    "        device = torch.device('cuda' if torch.cuda.is_available() else 'cpu')\n",
    "        logger.info(f\"Using device: {device}\")\n",
    "        \n",
    "        # Initialize model and training components\n",
    "        model = SeizureDetectionModel(n_channels=19).to(device)\n",
    "        criterion = nn.BCEWithLogitsLoss(pos_weight=pos_weight)\n",
    "        optimizer = torch.optim.Adam(model.parameters(), lr=0.001)\n",
    "        \n",
    "        # Training parameters\n",
    "        n_epochs = 10\n",
    "        best_val_f1 = 0\n",
    "        patience = 5  # Added early stopping patience\n",
    "        patience_counter = 0\n",
    "        \n",
    "        # Lists to store metrics for plotting\n",
    "        train_losses = []\n",
    "        val_losses = []\n",
    "        train_f1s = []\n",
    "        val_f1s = []\n",
    "        \n",
    "        # Training loop\n",
    "        logger.info(\"Starting training...\")\n",
    "        for epoch in range(n_epochs):\n",
    "            # Train\n",
    "            train_loss, train_prec, train_rec, train_f1 = train_epoch(\n",
    "                model, train_loader, criterion, optimizer, device\n",
    "            )\n",
    "            \n",
    "            # Validate\n",
    "            val_loss, val_prec, val_rec, val_f1 = validate(\n",
    "                model, val_loader, criterion, device\n",
    "            )\n",
    "            \n",
    "            # Store metrics\n",
    "            train_losses.append(train_loss)\n",
    "            val_losses.append(val_loss)\n",
    "            train_f1s.append(train_f1)\n",
    "            val_f1s.append(val_f1)\n",
    "            \n",
    "            # Log progress\n",
    "            logger.info(f\"Epoch {epoch+1}/{n_epochs}\")\n",
    "            logger.info(f\"Train Loss: {train_loss:.4f}, F1: {train_f1:.4f}\")\n",
    "            logger.info(f\"Val Loss: {val_loss:.4f}, F1: {val_f1:.4f}\")\n",
    "            \n",
    "            # Save best model based on F1 score\n",
    "            if val_f1 > best_val_f1:\n",
    "                best_val_f1 = val_f1\n",
    "                # Save more comprehensive checkpoint\n",
    "                torch.save({\n",
    "                    'epoch': epoch,\n",
    "                    'model_state_dict': model.state_dict(),\n",
    "                    'optimizer_state_dict': optimizer.state_dict(),\n",
    "                    'train_loss': train_loss,\n",
    "                    'val_loss': val_loss,\n",
    "                    'val_f1': val_f1,\n",
    "                    'best_f1': best_val_f1,\n",
    "                }, 'best_model.pth')\n",
    "                logger.info(\"Saved new best model\")\n",
    "                patience_counter = 0\n",
    "            else:\n",
    "                patience_counter += 1\n",
    "            \n",
    "            # Early stopping\n",
    "            if patience_counter >= patience:\n",
    "                logger.info(f\"Early stopping triggered after {epoch+1} epochs\")\n",
    "                break\n",
    "        \n",
    "        logger.info(\"Training complete\")\n",
    "        \n",
    "        # Plot training and validation metrics\n",
    "        plt.figure(figsize=(12, 6))\n",
    "        \n",
    "        # Loss plot\n",
    "        plt.subplot(1, 2, 1)\n",
    "        plt.plot(train_losses, label='Train Loss')\n",
    "        plt.plot(val_losses, label='Val Loss')\n",
    "        plt.xlabel('Epoch')\n",
    "        plt.ylabel('Loss')\n",
    "        plt.title('Training and Validation Loss')\n",
    "        plt.legend()\n",
    "        plt.grid(True)\n",
    "        \n",
    "        # F1 score plot\n",
    "        plt.subplot(1, 2, 2)\n",
    "        plt.plot(train_f1s, label='Train F1')\n",
    "        plt.plot(val_f1s, label='Val F1')\n",
    "        plt.xlabel('Epoch')\n",
    "        plt.ylabel('F1 Score')\n",
    "        plt.title('Training and Validation F1 Score')\n",
    "        plt.legend()\n",
    "        plt.grid(True)\n",
    "        \n",
    "        plt.tight_layout()\n",
    "        plt.show()\n",
    "        \n",
    "    except Exception as e:\n",
    "        logger.error(f\"Error in main: {str(e)}\")\n",
    "        raise\n",
    "\n",
    "if __name__ == \"__main__\":\n",
    "    main()"
   ]
  }
 ],
 "metadata": {
  "kernelspec": {
   "display_name": "eeg",
   "language": "python",
   "name": "python3"
  },
  "language_info": {
   "codemirror_mode": {
    "name": "ipython",
    "version": 3
   },
   "file_extension": ".py",
   "mimetype": "text/x-python",
   "name": "python",
   "nbconvert_exporter": "python",
   "pygments_lexer": "ipython3",
   "version": "3.9.21"
  }
 },
 "nbformat": 4,
 "nbformat_minor": 2
}
